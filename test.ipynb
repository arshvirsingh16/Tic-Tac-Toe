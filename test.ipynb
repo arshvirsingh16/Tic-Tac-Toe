{
 "cells": [
  {
   "cell_type": "code",
   "execution_count": 1,
   "metadata": {},
   "outputs": [],
   "source": [
    "import random\n",
    "board = [' '] * 9 # A list of 9 strings, one for each cell, \n",
    "                    # will contain ' ' or 'X' or 'O'\n",
    "played = set()    # A set to keep track of the played cells"
   ]
  },
  {
   "cell_type": "code",
   "execution_count": 2,
   "metadata": {},
   "outputs": [],
   "source": [
    "def init() -> None:\n",
    "    \"\"\" prints the banner messages \n",
    "        and prints the intial board on the screen\n",
    "    \"\"\"\n",
    "    print(\"Welcome to Tic-Tac-Toe!\")\n",
    "    print(\"You play X (first move) and computer plays O.\")\n",
    "    print(\"Computer plays randomly, not strategically.\")\n",
    "    printBoard()"
   ]
  },
  {
   "cell_type": "code",
   "execution_count": 3,
   "metadata": {},
   "outputs": [],
   "source": [
    "def printBoard() -> None:\n",
    "    \"\"\" prints the board on the screen based on the values in the board list \"\"\"\n",
    "    print(f'{board[0]} | {board[1]} | {board[2]}' + '    0 | 1 | 2')\n",
    "    print('--+---+--'+'    --+---+--') \n",
    "    print(f'{board[3]} | {board[4]} | {board[5]}' + '    3 | 4 | 5')\n",
    "    print('--+---+--' + '    --+---+--')\n",
    "    print(f'{board[6]} | {board[7]} | {board[8]}' + '    6 | 7 | 8')\n",
    "    print('\\n')"
   ]
  },
  {
   "cell_type": "code",
   "execution_count": null,
   "metadata": {},
   "outputs": [],
   "source": []
  },
  {
   "cell_type": "code",
   "execution_count": 4,
   "metadata": {},
   "outputs": [],
   "source": [
    "def playerNextMove() -> None:\n",
    "    \"\"\" prompts the player for a valid cell number, \n",
    "        and prints the info and the updated board;\n",
    "        error checks that the input is a valid cell number \n",
    "    \"\"\"\n",
    "    while True:\n",
    "\n",
    "        try:\n",
    "            cell_num = int(input('Next move for X (state a valid cell num): '))\n",
    "            if cell_num in range(0,9) and board[cell_num] == ' ':\n",
    "                board[cell_num] = 'X'\n",
    "                played.add(cell_num)\n",
    "                print(f'You chose cell {cell_num}')\n",
    "                break\n",
    "            else:\n",
    "                print('Must enter a valid cell number')\n",
    "        except:\n",
    "            print('Must be an integer')\n"
   ]
  },
  {
   "cell_type": "code",
   "execution_count": 5,
   "metadata": {},
   "outputs": [],
   "source": [
    "def computerNextMove() -> None:\n",
    "    \"\"\" Computer randomly chooses a valid cell, \n",
    "        and prints the info and the updated board \n",
    "    \"\"\"\n",
    "\n",
    "    # comp_rand_move = random.randint(0,8)\n",
    "    # while True:\n",
    "    #     if comp_rand_move in played:\n",
    "    #         comp_rand_move = random.randint(0,8)\n",
    "    #     else:\n",
    "    #         board[comp_rand_move] = 'O'\n",
    "    #         printBoard()\n",
    "    #         break\n",
    "\n",
    "    available_moves = [i for i in range(9) if board[i] == ' ']\n",
    "    if available_moves:\n",
    "        move = random.choice(available_moves)\n",
    "        board[move] = 'O'\n",
    "        played.add(move)\n",
    "        printBoard()\n",
    "\n",
    "\n"
   ]
  },
  {
   "cell_type": "code",
   "execution_count": 6,
   "metadata": {},
   "outputs": [],
   "source": [
    "def hasWon(who: str) -> bool:\n",
    "    \"\"\" returns True if who (being passed 'X' or 'O') has won, False otherwise \"\"\"\n",
    "    return ((board[0] == who and board[1] == who and board[2] == who) or # across the top\n",
    "    (board[3] == who and board[4] == who and board[5] == who) or # across the middle\n",
    "    (board[6] == who and board[7] == who and board[8] == who) or # across the bottom\n",
    "    (board[1] == who and board[4] == who and board[7] == who) or # down the middle\n",
    "    (board[0] == who and board[3] == who and board[6] == who) or # down the left side\n",
    "    (board[2] == who and board[5] == who and board[8] == who) or # down the right side\n",
    "    (board[2] == who and board[4] == who and board[6] == who) or # diagonal\n",
    "    (board[0] == who and board[4] == who and board[8] == who)) # diagonal\n",
    "\n",
    "\n",
    "def terminate(who: str) -> bool:\n",
    "    \"\"\" returns True if who (being passed 'X' or 'O') has won or if it's a draw, False otherwise;\n",
    "        it also prints the final messages:\n",
    "                \"You won! Thanks for playing.\" or \n",
    "                \"You lost! Thanks for playing.\" or \n",
    "                \"A draw! Thanks for playing.\"  \n",
    "    \"\"\"\n",
    "    if hasWon(who):\n",
    "        if who == 'X':\n",
    "            printBoard()\n",
    "            print(\"You won! Thanks for playing.\")\n",
    "            played.clear() #clear played set\n",
    "            return True\n",
    "        else:\n",
    "            printBoard()\n",
    "            print(\"You lost! Thanks for playing.\")\n",
    "            played.clear() #clear played set\n",
    "            return False\n",
    "        \n",
    "    elif ' ' not in board:\n",
    "        printBoard()\n",
    "        print(\"A draw! Thanks for playing.\")\n",
    "        played.clear() #clear played set\n",
    "        return True"
   ]
  },
  {
   "cell_type": "code",
   "execution_count": 7,
   "metadata": {},
   "outputs": [
    {
     "name": "stdout",
     "output_type": "stream",
     "text": [
      "Welcome to Tic-Tac-Toe!\n",
      "You play X (first move) and computer plays O.\n",
      "Computer plays randomly, not strategically.\n",
      "  |   |      0 | 1 | 2\n",
      "--+---+--    --+---+--\n",
      "  |   |      3 | 4 | 5\n",
      "--+---+--    --+---+--\n",
      "  |   |      6 | 7 | 8\n",
      "\n",
      "\n",
      "You chose cell 0\n",
      "X |   |      0 | 1 | 2\n",
      "--+---+--    --+---+--\n",
      "  |   |      3 | 4 | 5\n",
      "--+---+--    --+---+--\n",
      "  |   | O    6 | 7 | 8\n",
      "\n",
      "\n",
      "You chose cell 1\n",
      "X | X |      0 | 1 | 2\n",
      "--+---+--    --+---+--\n",
      "  |   |      3 | 4 | 5\n",
      "--+---+--    --+---+--\n",
      "  | O | O    6 | 7 | 8\n",
      "\n",
      "\n",
      "You chose cell 4\n",
      "X | X |      0 | 1 | 2\n",
      "--+---+--    --+---+--\n",
      "  | X | O    3 | 4 | 5\n",
      "--+---+--    --+---+--\n",
      "  | O | O    6 | 7 | 8\n",
      "\n",
      "\n",
      "You chose cell 3\n",
      "X | X |      0 | 1 | 2\n",
      "--+---+--    --+---+--\n",
      "X | X | O    3 | 4 | 5\n",
      "--+---+--    --+---+--\n",
      "O | O | O    6 | 7 | 8\n",
      "\n",
      "\n",
      "X | X |      0 | 1 | 2\n",
      "--+---+--    --+---+--\n",
      "X | X | O    3 | 4 | 5\n",
      "--+---+--    --+---+--\n",
      "O | O | O    6 | 7 | 8\n",
      "\n",
      "\n",
      "You lost! Thanks for playing.\n",
      "Must be an integer\n"
     ]
    }
   ],
   "source": [
    "init()\n",
    "while True:\n",
    "    playerNextMove()            # X starts first\n",
    "    if(terminate('X')): break   # if X won or a draw, print message and terminate\n",
    "    computerNextMove()          # computer plays O\n",
    "    if(terminate('O')): break   # if O won or a draw, print message and terminate"
   ]
  },
  {
   "cell_type": "code",
   "execution_count": null,
   "metadata": {},
   "outputs": [
    {
     "name": "stdout",
     "output_type": "stream",
     "text": [
      "<class 'set'>\n"
     ]
    }
   ],
   "source": [
    "\n",
    "test = set()\n",
    "print(type(test))"
   ]
  },
  {
   "cell_type": "code",
   "execution_count": null,
   "metadata": {},
   "outputs": [
    {
     "name": "stdout",
     "output_type": "stream",
     "text": [
      "{1, 2, 3, 4}\n"
     ]
    }
   ],
   "source": [
    "test.add(1)\n",
    "test.add(2)\n",
    "test.add(3)\n",
    "test.add(4)\n",
    "test.add(1)\n",
    "\n",
    "\n",
    "\n",
    "print(test)\n",
    "\n"
   ]
  }
 ],
 "metadata": {
  "kernelspec": {
   "display_name": "Python 3",
   "language": "python",
   "name": "python3"
  },
  "language_info": {
   "codemirror_mode": {
    "name": "ipython",
    "version": 3
   },
   "file_extension": ".py",
   "mimetype": "text/x-python",
   "name": "python",
   "nbconvert_exporter": "python",
   "pygments_lexer": "ipython3",
   "version": "3.9.13"
  },
  "orig_nbformat": 4
 },
 "nbformat": 4,
 "nbformat_minor": 2
}
